{
 "cells": [
  {
   "cell_type": "code",
   "execution_count": 2,
   "metadata": {
    "collapsed": true,
    "pycharm": {
     "name": "#%%\n"
    }
   },
   "outputs": [
    {
     "name": "stdout",
     "output_type": "stream",
     "text": [
      "['Quantity', 'Weight', 'WorkCode_L2903', 'WorkCode_L3092', 'WorkCode_T3940', 'WorkCode_T3941', 'WorkCode_T3942', 'WorkCode_T3943', 'WorkCode_T3944', 'WorkCode_T3945', 'ResourceGroupCode_D349201', 'ResourceGroupCode_R39402', 'ResourceGroupCode_T29391', 'ResourceCode_L3092', 'ResourceCode_M23141', 'ResourceCode_M3241', 'ResourceCode_M34211', 'ResourceCode_M34212', 'ResourceCode_M34213', 'ResourceCode_P231231', 'ResourceCode_P231232', 'ResourceCode_P231233', 'ResourceCode_P302012', 'ResourceCode_R0032', 'ResourceCode_R0033', 'ResourceCode_R0034', 'ResourceCode_R0035', 'ResourceCode_R1211', 'ResourceCode_R1212', 'ResourceCode_R1213', 'ResourceCode_R1214', 'ResourceCode_R2039', 'ResourceCode_R2040', 'ResourceCode_R2041', 'ResourceCode_R2042', 'ResourceCode_R9942', 'ResourceCode_R9943', 'ResourceCode_R9944', 'ResourceCode_R9945', 'ResourceCode_R9946', 'ResourceClassification_F', 'ResourceClassification_L', 'ResourceClassification_M']\n",
      "[1.80206669e+06 2.34749537e+07 4.49899936e+06 3.33022157e+05\n",
      " 1.30069209e+04 4.00459332e+04 3.60413137e+03 4.08970200e+02\n",
      " 3.02746798e+03 3.60413701e+03 4.00460000e+02 2.80321272e+03\n",
      " 1.41520158e+07 2.80321547e+05 7.79995102e+06 1.00114954e+04\n",
      " 1.20137954e+04 2.00229876e+04 2.40275833e+04 1.60184000e+03\n",
      " 2.40276000e+03 1.40161000e+03 4.90231877e+05 8.00919151e+03\n",
      " 9.01034639e+03 4.50520000e+02 5.00574450e+03]\n",
      "(27,)\n",
      "27\n",
      "('set_1 ', 1802876.123018799)\n",
      "('set_2 ', 1806071.2841912939)\n",
      "('set_3 ', 1842513.086021165)\n",
      "('set_4 ', 1805494.6208033164)\n"
     ]
    },
    {
     "data": {
      "image/png": "[encoded data removed]",
      "text/plain": "<Figure size 432x288 with 1 Axes>"
     },
     "metadata": {
      "needs_background": "light"
     },
     "output_type": "display_data"
    }
   ],
   "source": [
    "import pandas as pd\n",
    "import numpy as np\n",
    "from sklearn.model_selection import train_test_split\n",
    "from sklearn.ensemble import RandomForestRegressor\n",
    "import matplotlib.pyplot as plt\n",
    "import datetime\n",
    "from sklearn.tree import export_graphviz\n",
    "import pydot\n",
    "from subprocess import call\n",
    "from IPython.display import Image\n",
    "from numpy import asarray\n",
    "from numpy import savetxt\n",
    "%matplotlib inline\n",
    "\n",
    "features = pd.read_csv('mldata3.csv')\n",
    "# features.head(5)\n",
    "\n",
    "features = pd.get_dummies(features)\n",
    "# features.head(5)\n",
    "\n",
    "labels = np.array(features['Cost'])\n",
    "features = features.drop('Cost', axis=1)\n",
    "feature_list = list(features.columns)\n",
    "features = np.array(features)\n",
    "\n",
    "# features\n",
    "# train_features, test_features, train_labels, test_labels = train_test_split(features, labels, test_size=0.25, random_state=42)\n",
    "\n",
    "test = pd.read_csv('test.csv')\n",
    "testTemp = pd.read_csv('test.csv')\n",
    "# print(testTemp)\n",
    "\n",
    "testArr = np.array(testTemp)\n",
    "# print(testArr)\n",
    "# print(testArr.shape)\n",
    "\n",
    "test = pd.get_dummies(test)\n",
    "test_labels = np.array(test['Cost'])\n",
    "test = test.drop('Cost', axis=1)\n",
    "test_list = list(test.columns)\n",
    "print(test_list)\n",
    "test = np.array(test)\n",
    "\n",
    "rf = RandomForestRegressor(n_estimators=100, random_state=42)\n",
    "rf.fit(features, labels)\n",
    "\n",
    "predictions = rf.predict(test)\n",
    "predictions\n",
    "final = np.array(predictions)\n",
    "print(final)\n",
    "print(final.shape)\n",
    "print(final.size)\n",
    "# final = np.reshape(-1, final.size)\n",
    "\n",
    "# np.append(testArr, final[:, -1:], axis=1)\n",
    "# print(final[:, -1:])\n",
    "# result = np.vstack((testArr, final[:, -1:]))\n",
    "# print(\"Appended? \", testArr)\n",
    "# 'M' 'M' 'M' 'M' 'M' 'L' 'L' 'L' 'L' 'F' 'F' 'F' 'M' 'M' 'L' 'L' 'L' 'L' 'F' 'F' 'M' 'L' 'L' 'F' 'F']\n",
    "rClassif = np.array(testTemp['ResourceClassification'])\n",
    "\n",
    "# ['D349201' 'R39402' 'T29391']\n",
    "resourceGroup = np.array(testTemp['ResourceGroupCode'])\n",
    "resourceGroup = np.unique(resourceGroup)\n",
    "\n",
    "resourceCost = final[0] + final[1] + final[2] + final[3] + final[4]\n",
    "machineCost = final[9]\n",
    "\n",
    "set_1 = final[0] + final[7] + final[10]\n",
    "print(\"set_1 \", set_1)\n",
    "\n",
    "set_2 = final[0] + final[6] + final[10]\n",
    "print(\"set_2 \", set_2)\n",
    "\n",
    "set_3 = final[0] + final[5] + final[10]\n",
    "print(\"set_3 \", set_3)\n",
    "\n",
    "set_4 = final[0] + final[8] + final[10]\n",
    "print(\"set_4 \", set_4)\n",
    "\n",
    "plt.plot([\"set_1\", \"set_2\", \"set_3\", \"set_4\"],[set_1, set_2, set_3, set_4])\n",
    "plt.xlabel(\"Set name\")\n",
    "plt.ylabel(\"Predicted cost\")\n",
    "\n",
    "# # plt.style.use('ggplot')\n",
    "# x = [\"set_1\", \"set_2\", \"set_3\", \"set_4\"]\n",
    "# y =[set_1, set_2, set_3, set_4]\n",
    "# \n",
    "# fig, ax = plt.subplots()\n",
    "# ax.scatter(x, y)\n",
    "# for i, txt in enumerate(y):\n",
    "#     ax.annotate(txt, (x[i], y[i]))\n",
    "\n",
    "plt.savefig('/Users/chaiwonpark/PycharmProjects/machineLearning/graph2.png')\n"
   ]
  }
 ],
 "metadata": {
  "kernelspec": {
   "display_name": "Python 2",
   "language": "python",
   "name": "python2"
  },
  "language_info": {
   "codemirror_mode": {
    "name": "ipython",
    "version": 2
   },
   "file_extension": ".py",
   "mimetype": "text/x-python",
   "name": "python",
   "nbconvert_exporter": "python",
   "pygments_lexer": "ipython2",
   "version": "2.7.6"
  }
 },
 "nbformat": 4,
 "nbformat_minor": 0
}