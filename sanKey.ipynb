{
 "cells": [
  {
   "cell_type": "code",
   "execution_count": 5,
   "metadata": {
    "collapsed": true
   },
   "outputs": [
    {
     "data": {
      "text/plain": "'\\nimport plotly.graph_objects as go\\n\\nfig = go.Figure(data=[go.Sankey(\\n    node = dict(\\n        pad = 15,\\n        thickness = 20,\\n        line = dict(color = \"black\", width = 0.5),\\n        label = [\"A1\", \"A2\", \"B1\", \"B2\", \"C1\", \"C2\"],\\n        color = \"blue\"\\n    ),\\n    link = dict(\\n        source = [0, 1, 0, 2, 3, 3],\\n        target = [2, 3, 3, 4, 4, 5],\\n        value = [8, 4, 2, 8, 4, 2]\\n    )\\n)])\\n\\nfig.update_layout(title_text=\"Basic Sankey Diagram\", font_size = 10)\\nfig.show()\\n'"
     },
     "execution_count": 5,
     "metadata": {},
     "output_type": "execute_result"
    }
   ],
   "source": [
    "\"\"\"\n",
    "import plotly.graph_objects as go\n",
    "\n",
    "fig = go.Figure(data=[go.Sankey(\n",
    "    node = dict(\n",
    "        pad = 15,\n",
    "        thickness = 20,\n",
    "        line = dict(color = \"black\", width = 0.5),\n",
    "        label = [\"A1\", \"A2\", \"B1\", \"B2\", \"C1\", \"C2\"],\n",
    "        color = \"blue\"\n",
    "    ),\n",
    "    link = dict(\n",
    "        source = [0, 1, 0, 2, 3, 3],\n",
    "        target = [2, 3, 3, 4, 4, 5],\n",
    "        value = [8, 4, 2, 8, 4, 2]\n",
    "    )\n",
    ")])\n",
    "\n",
    "fig.update_layout(title_text=\"Basic Sankey Diagram\", font_size = 10)\n",
    "fig.show()\n",
    "\"\"\""
   ]
  },
  {
   "cell_type": "code",
   "execution_count": 6,
   "outputs": [
    {
     "data": {
      "text/plain": "\"\\nimport pandas as pd\\nimport plotly.graph_objects as go\\n\\ndf = pd.DataFrame({'lvl1': ['A', 'A', 'A', 'A', 'A', 'A', 'A', 'A', 'B', 'B', 'B'],\\n                   'lvl2': ['AP', 'AP', 'AP', 'AC', 'AC', 'AC', 'AB', 'AB', 'BE', 'BR', 'BA'],\\n                   'lvl3': ['APP', 'APE', 'APA', 'ACT', 'ACC', 'ACE', 'ABL', 'ABO', 'BET', 'BRE', 'BAK'],\\n                   'lvl4': ['APPL', 'APEX', 'APAR', 'ACTO', 'ACCE', 'ACER', 'ABLE', 'ABOU', '', '', ''],\\n                   'count': [5, 2, 3, 8, 2, 10, 1, 3, 4, 6, 3]})\\n\\n# df\\ndf.groupby('lvl1').agg('min')\\n\\n\""
     },
     "execution_count": 6,
     "metadata": {},
     "output_type": "execute_result"
    }
   ],
   "source": [
    "\"\"\"\n",
    "import pandas as pd\n",
    "import plotly.graph_objects as go\n",
    "\n",
    "df = pd.DataFrame({'lvl1': ['A', 'A', 'A', 'A', 'A', 'A', 'A', 'A', 'B', 'B', 'B'],\n",
    "                   'lvl2': ['AP', 'AP', 'AP', 'AC', 'AC', 'AC', 'AB', 'AB', 'BE', 'BR', 'BA'],\n",
    "                   'lvl3': ['APP', 'APE', 'APA', 'ACT', 'ACC', 'ACE', 'ABL', 'ABO', 'BET', 'BRE', 'BAK'],\n",
    "                   'lvl4': ['APPL', 'APEX', 'APAR', 'ACTO', 'ACCE', 'ACER', 'ABLE', 'ABOU', '', '', ''],\n",
    "                   'count': [5, 2, 3, 8, 2, 10, 1, 3, 4, 6, 3]})\n",
    "\n",
    "# df\n",
    "df.groupby('lvl1').agg('min')\n",
    "\n",
    "\"\"\""
   ],
   "metadata": {
    "collapsed": false,
    "pycharm": {
     "name": "#%%\n"
    }
   }
  },
  {
   "cell_type": "code",
   "execution_count": 7,
   "outputs": [
    {
     "data": {
      "text/plain": "'temp-plot.html'"
     },
     "execution_count": 7,
     "metadata": {},
     "output_type": "execute_result"
    }
   ],
   "source": [
    "import pandas as pd\n",
    "import plotly\n",
    "\n",
    "def genSankey(df,cat_cols=[],value_cols='',title='Sankey Diagram'):\n",
    "    # maximum of 6 value cols -> 6 colors\n",
    "    colorPalette = ['#4B8BBE','#306998','#FFE873','#FFD43B','#646464']\n",
    "    labelList = []\n",
    "    colorNumList = []\n",
    "    for catCol in cat_cols:\n",
    "        labelListTemp =  list(set(df[catCol].values))\n",
    "        colorNumList.append(len(labelListTemp))\n",
    "        labelList = labelList + labelListTemp\n",
    "\n",
    "    # remove duplicates from labelList\n",
    "    labelList = list(dict.fromkeys(labelList))\n",
    "\n",
    "    # define colors based on number of levels\n",
    "    colorList = []\n",
    "    for idx, colorNum in enumerate(colorNumList):\n",
    "        colorList = colorList + [colorPalette[idx]]*colorNum\n",
    "\n",
    "    # transform df into a source-target pair\n",
    "    for i in range(len(cat_cols)-1):\n",
    "        if i==0:\n",
    "            sourceTargetDf = df[[cat_cols[i],cat_cols[i+1],value_cols]]\n",
    "            sourceTargetDf.columns = ['source','target','count']\n",
    "        else:\n",
    "            tempDf = df[[cat_cols[i],cat_cols[i+1],value_cols]]\n",
    "            tempDf.columns = ['source','target','count']\n",
    "            sourceTargetDf = pd.concat([sourceTargetDf,tempDf])\n",
    "        sourceTargetDf = sourceTargetDf.groupby(['source','target']).agg({'count':'sum'}).reset_index()\n",
    "\n",
    "    # add index for source-target pair\n",
    "    sourceTargetDf['sourceID'] = sourceTargetDf['source'].apply(lambda x: labelList.index(x))\n",
    "    sourceTargetDf['targetID'] = sourceTargetDf['target'].apply(lambda x: labelList.index(x))\n",
    "\n",
    "    # creating the sankey diagram\n",
    "    data = dict(\n",
    "        type='sankey',\n",
    "        node = dict(\n",
    "          pad = 15,\n",
    "          thickness = 20,\n",
    "          line = dict(\n",
    "            color = \"black\",\n",
    "            width = 0.5\n",
    "          ),\n",
    "          label = labelList,\n",
    "          color = colorList\n",
    "        ),\n",
    "        link = dict(\n",
    "          source = sourceTargetDf['sourceID'],\n",
    "          target = sourceTargetDf['targetID'],\n",
    "          value = sourceTargetDf['count']\n",
    "        )\n",
    "      )\n",
    "\n",
    "    layout =  dict(\n",
    "        title = title,\n",
    "        font = dict(\n",
    "          size = 10\n",
    "        )\n",
    "    )\n",
    "\n",
    "    fig = dict(data=[data], layout=layout)\n",
    "    return fig\n",
    "\n",
    "df = pd.DataFrame({'lvl1': ['A', 'A', 'A', 'A', 'A', 'A', 'A', 'A', 'B', 'B', 'B'],\n",
    "                   'lvl2': ['AP', 'AP', 'AP', 'AC', 'AC', 'AC', 'AB', 'AB', 'BE', 'BR', 'BA'],\n",
    "                   'lvl3': ['APP', 'APE', 'APA', 'ACT', 'ACC', 'ACE', 'ABL', 'ABO', 'BET', 'BRE', 'BAK'],\n",
    "                   'lvl4': ['APPL', 'APEX', 'APAR', 'ACTO', 'ACCE', 'ACER', 'ABLE', 'ABOU', '', '', ''],\n",
    "                   'count': [5, 2, 3, 8, 2, 10, 1, 3, 4, 6, 3]})\n",
    "\n",
    "fig = genSankey(df,cat_cols=['lvl1','lvl2','lvl3','lvl4'],value_cols='count',title='Word Etymology')\n",
    "plotly.offline.plot(fig, validate=False)"
   ],
   "metadata": {
    "collapsed": false,
    "pycharm": {
     "name": "#%%\n"
    }
   }
  }
 ],
 "metadata": {
  "kernelspec": {
   "display_name": "Python 2",
   "language": "python",
   "name": "python2"
  },
  "language_info": {
   "codemirror_mode": {
    "name": "ipython",
    "version": 2
   },
   "file_extension": ".py",
   "mimetype": "text/x-python",
   "name": "python",
   "nbconvert_exporter": "python",
   "pygments_lexer": "ipython2",
   "version": "2.7.6"
  }
 },
 "nbformat": 4,
 "nbformat_minor": 0
}