{
 "cells": [
  {
   "cell_type": "code",
   "execution_count": 2,
   "metadata": {},
   "outputs": [
    {
     "name": "stdout",
     "output_type": "stream",
     "text": [
      "    Quantity  Weight      Cost\n",
      "0        156   20000   3115232\n",
      "1        692    7700   5330508\n",
      "2        623     990    616816\n",
      "3        156     950    147974\n",
      "4         35   10500    363444\n",
      "5         10    2000     20768\n",
      "6          3    6000     20768\n",
      "7          4   40000    152300\n",
      "8          2   85000    147108\n",
      "9         35   24916    862435\n",
      "10         9  275000   2474879\n",
      "11     14115     180   2540783\n",
      "12      4707     360   1694686\n",
      "13       391    1100    430248\n",
      "14     18823       5     94115\n",
      "15      3922     371   1456668\n",
      "16      4704    4800  22579200\n",
      "17      3922     371   1456668\n",
      "18      4704    4800  22579200\n",
      "19      4704    1453   6832560\n",
      "20     14112     350   4939200\n",
      "21     14112       1     11760\n",
      "22     14112      67    940800\n",
      "23     14112      17    235400\n",
      "24     14112      50    705600\n"
     ]
    }
   ],
   "source": [
    "import pandas as pd\n",
    "import numpy as np\n",
    "import matplotlib.pyplot as plt\n",
    "import pandas as pd\n",
    "import numpy as np\n",
    "import matplotlib.pyplot as plt\n",
    "import seaborn as seabornInstance\n",
    "from sklearn.model_selection import train_test_split\n",
    "from sklearn.linear_model import LinearRegression\n",
    "from sklearn import metrics\n",
    "%matplotlib inline\n",
    "from sklearn.linear_model import LinearRegression\n",
    "from sklearn.model_selection import train_test_split\n",
    "from sklearn import metrics\n",
    "\n",
    "df = pd.read_csv('cost.csv', delimiter=';')\n",
    "print(df)\n",
    "\n"
   ]
  },
  {
   "cell_type": "code",
   "execution_count": 3,
   "outputs": [
    {
     "name": "stdout",
     "output_type": "stream",
     "text": [
      "[[   156  20000]\n",
      " [   692   7700]\n",
      " [   623    990]\n",
      " [   156    950]\n",
      " [    35  10500]\n",
      " [    10   2000]\n",
      " [     3   6000]\n",
      " [     4  40000]\n",
      " [     2  85000]\n",
      " [    35  24916]\n",
      " [     9 275000]\n",
      " [ 14115    180]\n",
      " [  4707    360]\n",
      " [   391   1100]\n",
      " [ 18823      5]\n",
      " [  3922    371]\n",
      " [  4704   4800]\n",
      " [  3922    371]\n",
      " [  4704   4800]\n",
      " [  4704   1453]\n",
      " [ 14112    350]\n",
      " [ 14112      1]\n",
      " [ 14112     67]\n",
      " [ 14112     17]\n",
      " [ 14112     50]]\n",
      "[ 3115232  5330508   616816   147974   363444    20768    20768   152300\n",
      "   147108   862435  2474879  2540783  1694686   430248    94115  1456668\n",
      " 22579200  1456668 22579200  6832560  4939200    11760   940800   235400\n",
      "   705600]\n"
     ]
    },
    {
     "data": {
      "text/plain": "array([3389918.21518529, 3464245.76180132, 3519151.05748479,\n       3538014.57778595, 3468579.02369137, 3535651.94309361,\n       3504833.68370775, 3240474.98923411, 2890720.51603573,\n       3356507.78152595, 1413365.84395029, 2989450.00290531,\n       3361803.24636008, 3527512.59563597, 2803775.27018684,\n       3392903.50676613, 3327405.48016344, 3392903.50676613,\n       3327405.48016344, 3353425.35027495, 2988247.58937558,\n       2990960.74583477, 2990447.65607458, 2990836.36043836,\n       2990579.81555827])"
     },
     "execution_count": 3,
     "metadata": {},
     "output_type": "execute_result"
    }
   ],
   "source": [
    "y = df['Cost'].values\n",
    "x = df[['Quantity','Weight']].values\n",
    "print(x)\n",
    "print(y)\n",
    "linear_regression = LinearRegression()\n",
    "linear_regression.fit(x, y)\n",
    "y_pred = linear_regression.predict(x)\n",
    "y_pred\n"
   ],
   "metadata": {
    "collapsed": false,
    "pycharm": {
     "name": "#%%\n"
    }
   }
  }
 ],
 "metadata": {
  "kernelspec": {
   "display_name": "Python 2",
   "language": "python",
   "name": "python2"
  },
  "language_info": {
   "codemirror_mode": {
    "name": "ipython",
    "version": 2
   },
   "file_extension": ".py",
   "mimetype": "text/x-python",
   "name": "python",
   "nbconvert_exporter": "python",
   "pygments_lexer": "ipython2",
   "version": "2.7.16"
  }
 },
 "nbformat": 4,
 "nbformat_minor": 1
}