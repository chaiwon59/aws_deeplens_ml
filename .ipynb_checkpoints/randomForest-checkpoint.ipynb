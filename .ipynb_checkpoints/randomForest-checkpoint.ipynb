{
 "cells": [
  {
   "cell_type": "code",
   "execution_count": 2,
   "metadata": {},
   "outputs": [
    {
     "data": {
      "text/plain": [
       "\"\\nX_grid = np.arange(min(x), max(x), 0.01)\\nX_grid = X_grid.reshape((len(X_grid), 1))\\n\\nplt.scatter(x, y, color = 'blue')\\nplt.plot(X_grid, regressor.predict(X_grid), color='green')\\nplt.xlabel('Weight')\\nplt.ylabel('Cost')\\nplt.show()\\n\\ntree = regressor.estimators_[5]\\nexport_graphviz(tree, out_file='tree.dot', feature_names='?', rounded=True, precision=1)\\n(graph, ) = pydot.graph_from_dot_file('tree.dot')\\ngraph.write_png('tree.png')\\n\""
      ]
     },
     "execution_count": 2,
     "metadata": {},
     "output_type": "execute_result"
    }
   ],
   "source": [
    "import numpy as np\n",
    "import pandas as pd\n",
    "from sklearn.model_selection import train_test_split\n",
    "from sklearn.ensemble import RandomForestRegressor\n",
    "from sklearn.metrics import r2_score, mean_squared_error\n",
    "import seaborn as sns\n",
    "from sklearn.metrics import classification_report, confusion_matrix, accuracy_score\n",
    "import matplotlib.pyplot as plt\n",
    "from sklearn.tree import export_graphviz\n",
    "import pydot\n",
    "from sklearn import metrics\n",
    "\n",
    "\n",
    "df = pd.read_csv('mldata2.csv')\n",
    "\n",
    "#One hot encoding\n",
    "features = pd.get_dummies(df)\n",
    "features.iloc[:,5:].head(5)\n",
    "\n",
    "\"\"\"\n",
    "x = df[['Weight', 'Quantity', 'ResrouceClassification']].values\n",
    "y = df['Cost'].values\n",
    "\n",
    "x_train, x_test, y_train, y_test = train_test_split(x, y, test_size=0.30, random_state=42)\n",
    "\n",
    "regressor = RandomForestRegressor(n_estimators=200, random_state=0)\n",
    "regressor.fit(x_train, y_train)\n",
    "\n",
    "y_pred = regressor.predict(x_test)\n",
    "\n",
    "# print(y_pred)\n",
    "print(\"Mean Absolute Error:\", metrics.mean_squared_error(y_test, y_pred))\n",
    "print(\"Mean Squared Error:\", metrics.mean_squared_error(y_test, y_pred))\n",
    "print(\"Root Mean Squared Error:\", np.sqrt(metrics.mean_squared_error(y_test, y_pred)))\n",
    "\n",
    "# comp = pd.DataFrame({'Actual':y_test.flatten(), 'Predicted':y_pred.flatten()})\n",
    "# comp\n",
    "\"\"\"\n",
    "\n",
    "\"\"\"\n",
    "X_grid = np.arange(min(x), max(x), 0.01)\n",
    "X_grid = X_grid.reshape((len(X_grid), 1))\n",
    "\n",
    "plt.scatter(x, y, color = 'blue')\n",
    "plt.plot(X_grid, regressor.predict(X_grid), color='green')\n",
    "plt.xlabel('Weight')\n",
    "plt.ylabel('Cost')\n",
    "plt.show()\n",
    "\n",
    "tree = regressor.estimators_[5]\n",
    "export_graphviz(tree, out_file='tree.dot', feature_names='?', rounded=True, precision=1)\n",
    "(graph, ) = pydot.graph_from_dot_file('tree.dot')\n",
    "graph.write_png('tree.png')\n",
    "\"\"\""
   ]
  },
  {
   "cell_type": "code",
   "execution_count": null,
   "metadata": {},
   "outputs": [],
   "source": []
  }
 ],
 "metadata": {
  "kernelspec": {
   "display_name": "Python 2",
   "language": "python",
   "name": "python2"
  },
  "language_info": {
   "codemirror_mode": {
    "name": "ipython",
    "version": 2
   },
   "file_extension": ".py",
   "mimetype": "text/x-python",
   "name": "python",
   "nbconvert_exporter": "python",
   "pygments_lexer": "ipython2",
   "version": "2.7.16"
  }
 },
 "nbformat": 4,
 "nbformat_minor": 1
}
